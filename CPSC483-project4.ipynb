{
 "cells": [
  {
   "cell_type": "markdown",
   "id": "b421f04a",
   "metadata": {},
   "source": [
    "# CPSC 483 Project 3\n",
    "#### 11/19/21\n",
    "### Team Members: Raphael S. Andaya, Glenn H. Lusk, Ricky Martinez, Jacob Coyle\n"
   ]
  },
  {
   "cell_type": "markdown",
   "id": "1aacd784",
   "metadata": {},
   "source": [
    "---"
   ]
  },
  {
   "cell_type": "markdown",
   "id": "fa2743ef",
   "metadata": {},
   "source": [
    "## 1. First we load and examine each test dataset."
   ]
  },
  {
   "cell_type": "code",
   "execution_count": 2057,
   "id": "823897d6",
   "metadata": {},
   "outputs": [
    {
     "name": "stdout",
     "output_type": "stream",
     "text": [
      "         x_1        x_2  t\n",
      "0   1.800539  -0.539218  0\n",
      "1  24.330831  26.439146  1\n",
      "2  21.124114  21.166814  1\n",
      "3  10.517197  11.175424  0\n",
      "4  19.737721  23.341138  1          x_1        x_2  t\n",
      "0  -1.664407  17.245415  0\n",
      "1  20.211237   8.599145  1\n",
      "2  12.675218  23.148375  1\n",
      "3  17.552831  10.311698  1\n",
      "4  14.959941  20.225844  1          x_1        x_2  t\n",
      "0  30.876149   7.806793  0\n",
      "1  34.060953  14.802478  0\n",
      "2  30.860440  16.270849  0\n",
      "3  21.738646  10.306756  1\n",
      "4  17.664476  30.921761  1\n"
     ]
    },
    {
     "data": {
      "text/html": [
       "<div>\n",
       "<style scoped>\n",
       "    .dataframe tbody tr th:only-of-type {\n",
       "        vertical-align: middle;\n",
       "    }\n",
       "\n",
       "    .dataframe tbody tr th {\n",
       "        vertical-align: top;\n",
       "    }\n",
       "\n",
       "    .dataframe thead th {\n",
       "        text-align: right;\n",
       "    }\n",
       "</style>\n",
       "<table border=\"1\" class=\"dataframe\">\n",
       "  <thead>\n",
       "    <tr style=\"text-align: right;\">\n",
       "      <th></th>\n",
       "      <th>x_1</th>\n",
       "      <th>x_2</th>\n",
       "      <th>t</th>\n",
       "    </tr>\n",
       "  </thead>\n",
       "  <tbody>\n",
       "    <tr>\n",
       "      <th>0</th>\n",
       "      <td>1.800539</td>\n",
       "      <td>-0.539218</td>\n",
       "      <td>0</td>\n",
       "    </tr>\n",
       "    <tr>\n",
       "      <th>1</th>\n",
       "      <td>24.330831</td>\n",
       "      <td>26.439146</td>\n",
       "      <td>1</td>\n",
       "    </tr>\n",
       "    <tr>\n",
       "      <th>2</th>\n",
       "      <td>21.124114</td>\n",
       "      <td>21.166814</td>\n",
       "      <td>1</td>\n",
       "    </tr>\n",
       "    <tr>\n",
       "      <th>3</th>\n",
       "      <td>10.517197</td>\n",
       "      <td>11.175424</td>\n",
       "      <td>0</td>\n",
       "    </tr>\n",
       "    <tr>\n",
       "      <th>4</th>\n",
       "      <td>19.737721</td>\n",
       "      <td>23.341138</td>\n",
       "      <td>1</td>\n",
       "    </tr>\n",
       "  </tbody>\n",
       "</table>\n",
       "</div>"
      ],
      "text/plain": [
       "         x_1        x_2  t\n",
       "0   1.800539  -0.539218  0\n",
       "1  24.330831  26.439146  1\n",
       "2  21.124114  21.166814  1\n",
       "3  10.517197  11.175424  0\n",
       "4  19.737721  23.341138  1"
      ]
     },
     "execution_count": 2057,
     "metadata": {},
     "output_type": "execute_result"
    }
   ],
   "source": [
    "import pandas as pd\n",
    "import numpy as np\n",
    "\n",
    "\n",
    "myFile = pd.read_csv(\"dataset1.csv\",\n",
    "                    names = ['x_1','x_2','t'])\n",
    "myFile2 = pd.read_csv(\"dataset2.csv\",\n",
    "                     names = ['x_1','x_2','t'])\n",
    "myFile3 = pd.read_csv(\"dataset3.csv\",\n",
    "                     names = ['x_1','x_2','t'])\n",
    "df = myFile\n",
    "df2 = myFile2\n",
    "df3 = myFile3\n",
    "\n",
    "dfHead = pd.DataFrame.head(myFile)\n",
    "dfHead2 = pd.DataFrame.head(myFile2)\n",
    "dfHead3 = pd.DataFrame.head(myFile3)\n",
    "print(dfHead, dfHead2, dfHead3)\n",
    "#dfHead\n",
    "dfHead"
   ]
  },
  {
   "cell_type": "markdown",
   "id": "187c21ec",
   "metadata": {},
   "source": [
    "---\n",
    "---"
   ]
  },
  {
   "cell_type": "markdown",
   "id": "5a8afdbf",
   "metadata": {},
   "source": [
    "## 2. Next we fit and score binary classifiers for dataset 1 using Logistic Regression, Gaussian Naive Bayes, and K-Nearest Neighbors for dataset 1. \n",
    "###### Note: since these are toy datasets, and we are interested in the behavior of the classifiers themselves rather than making predictions, we do not split the data into training and test sets. We will train with the entire dataset."
   ]
  },
  {
   "cell_type": "markdown",
   "id": "12971fc9",
   "metadata": {},
   "source": [
    "### Setting up Dataset 1"
   ]
  },
  {
   "cell_type": "code",
   "execution_count": 2058,
   "id": "47443a74",
   "metadata": {},
   "outputs": [],
   "source": [
    "from sklearn.model_selection import train_test_split\n",
    "\n",
    "X = df\n",
    "t = X['t']\n",
    "X = X.drop(['t'], axis = 1)\n",
    "\n",
    "def showData(features, target, doShow):\n",
    "    if(doShow == True):\n",
    "        print(f'Feature Matrix: \\n{features}\\n')\n",
    "        print(f'Target Vector: \\n{target}\\n')\n",
    "        \n",
    "showData(X, t, False)"
   ]
  },
  {
   "cell_type": "markdown",
   "id": "8b1ca785",
   "metadata": {},
   "source": [
    "### The Logistic Regression Classification Model (Dataset 1)"
   ]
  },
  {
   "cell_type": "code",
   "execution_count": 2059,
   "id": "4e6233f8",
   "metadata": {},
   "outputs": [
    {
     "name": "stdout",
     "output_type": "stream",
     "text": [
      "Logistic Regression Score: 1.0\n"
     ]
    }
   ],
   "source": [
    "from sklearn.linear_model import LogisticRegression\n",
    "\n",
    "def lgr(features, target):\n",
    "    #Fit\n",
    "    lgr = LogisticRegression().fit(features, target)\n",
    "    #Score\n",
    "    lg_score = lgr.score(features, target)\n",
    "    #Print Score\n",
    "    print(f'Logistic Regression Score: {lg_score}')\n",
    "    return lgr\n",
    "\n",
    "lrcD1 = lgr(X, t)"
   ]
  },
  {
   "cell_type": "markdown",
   "id": "6e3c66c7",
   "metadata": {},
   "source": [
    "### The Gaussian Naive Bayes Classification Model (Dataset 1)"
   ]
  },
  {
   "cell_type": "code",
   "execution_count": 2060,
   "id": "53a7b8aa",
   "metadata": {},
   "outputs": [
    {
     "name": "stdout",
     "output_type": "stream",
     "text": [
      "Gaussian Naive Bayes Score: 1.0\n"
     ]
    }
   ],
   "source": [
    "from sklearn.naive_bayes import GaussianNB \n",
    "\n",
    "def gnb(features, target):\n",
    "    #Fit\n",
    "    gnb = GaussianNB().fit(features, target)\n",
    "    #Score\n",
    "    gnb_score = gnb.score(features, target)\n",
    "    #Print Score\n",
    "    print(f'Gaussian Naive Bayes Score: {gnb_score}')\n",
    "    return gnb\n",
    "\n",
    "gnbD1 = gnb(X, t)"
   ]
  },
  {
   "cell_type": "markdown",
   "id": "cd81ceee",
   "metadata": {},
   "source": [
    "### The K-Nearest Neighbors Classification Model (Dataset 1)"
   ]
  },
  {
   "cell_type": "code",
   "execution_count": 2061,
   "id": "b3d8069b",
   "metadata": {},
   "outputs": [
    {
     "name": "stdout",
     "output_type": "stream",
     "text": [
      "K-Nearest-Neighbors Score: 1.0\n"
     ]
    }
   ],
   "source": [
    "from sklearn.neighbors import KNeighborsClassifier\n",
    "\n",
    "def knn(features, target):\n",
    "    #Fit\n",
    "    #How much should K be????\n",
    "    knn = KNeighborsClassifier(n_neighbors=5).fit(features, target)\n",
    "    #Score\n",
    "    knn_score = knn.score(features, target)\n",
    "    #Print Score\n",
    "    print(f'K-Nearest-Neighbors Score: {knn_score}')\n",
    "    return knn\n",
    "    \n",
    "knnD1 = knn(X, t)"
   ]
  },
  {
   "cell_type": "markdown",
   "id": "f902fd5c",
   "metadata": {},
   "source": [
    "## So, how accurate are our classification model's predictions?"
   ]
  },
  {
   "cell_type": "markdown",
   "id": "3473ba63",
   "metadata": {},
   "source": [
    "#### Lorem Ipsum"
   ]
  },
  {
   "cell_type": "markdown",
   "id": "c0f7ff1c",
   "metadata": {},
   "source": [
    "---\n",
    "---"
   ]
  },
  {
   "cell_type": "markdown",
   "id": "c24d751b",
   "metadata": {},
   "source": [
    "## 3. Next we repeat the previous experiment for dataset 2. "
   ]
  },
  {
   "cell_type": "markdown",
   "id": "0704b849",
   "metadata": {},
   "source": [
    "### Setting up dataset 2"
   ]
  },
  {
   "cell_type": "code",
   "execution_count": 2062,
   "id": "f2f275f3",
   "metadata": {},
   "outputs": [],
   "source": [
    "X2 = df2\n",
    "t2 = X2['t']\n",
    "X2 = X2.drop(['t'], axis = 1)\n",
    "\n",
    "showData(X2, t2, False)"
   ]
  },
  {
   "cell_type": "markdown",
   "id": "5a56ca67",
   "metadata": {},
   "source": [
    "### The Logistic Regression Classification Model (Dataset 2)"
   ]
  },
  {
   "cell_type": "code",
   "execution_count": 2063,
   "id": "d1bef8c8",
   "metadata": {},
   "outputs": [
    {
     "name": "stdout",
     "output_type": "stream",
     "text": [
      "Logistic Regression Score: 0.525\n"
     ]
    }
   ],
   "source": [
    "lrcD2 = lgr(X2, t2)"
   ]
  },
  {
   "cell_type": "markdown",
   "id": "40f31612",
   "metadata": {},
   "source": [
    "### The Gaussian Naive Bayes Classification Model (Dataset 2)"
   ]
  },
  {
   "cell_type": "code",
   "execution_count": 2064,
   "id": "cdfc7b06",
   "metadata": {
    "scrolled": true
   },
   "outputs": [
    {
     "name": "stdout",
     "output_type": "stream",
     "text": [
      "Gaussian Naive Bayes Score: 1.0\n"
     ]
    }
   ],
   "source": [
    "gnbD2 = gnb(X2, t2)"
   ]
  },
  {
   "cell_type": "markdown",
   "id": "20ee1315",
   "metadata": {},
   "source": [
    "### The K-Nearest Neighbors Classification Model (Dataset 2)"
   ]
  },
  {
   "cell_type": "code",
   "execution_count": 2065,
   "id": "c4f5426a",
   "metadata": {},
   "outputs": [
    {
     "name": "stdout",
     "output_type": "stream",
     "text": [
      "K-Nearest-Neighbors Score: 1.0\n"
     ]
    }
   ],
   "source": [
    "knnD2 = knn(X2, t2)"
   ]
  },
  {
   "cell_type": "markdown",
   "id": "209f644f",
   "metadata": {},
   "source": [
    "## How do these results compare?"
   ]
  },
  {
   "cell_type": "markdown",
   "id": "c5cf1e30",
   "metadata": {},
   "source": [
    "#### Logistic Regression is half as accurate in its score, in comparison of dataset 1 and 2 (Datas. Gaussian Naive Bayes and K-Nearest-Neighbors scores are the same accuracy of 1.0.\n",
    "\n",
    "##### Note: Can be changed, check over my stuff bois!"
   ]
  },
  {
   "cell_type": "markdown",
   "id": "0ad1b5af",
   "metadata": {},
   "source": [
    "---\n",
    "---"
   ]
  },
  {
   "cell_type": "markdown",
   "id": "d0dda70e",
   "metadata": {},
   "source": [
    "## 4. We then create scatterplots for datasets 1 and 2, and we will be plotting points from class 0 with a different color and marker from points in class 1."
   ]
  },
  {
   "cell_type": "code",
   "execution_count": 2066,
   "metadata": {},
   "outputs": [],
   "source": [
    "import seaborn as sns\n",
    "from matplotlib import pyplot as plt"
   ]
  },
  {
   "cell_type": "markdown",
   "id": "bb274bad",
   "metadata": {},
   "source": [
    "### The plot of dataset 1"
   ]
  },
  {
   "cell_type": "code",
   "execution_count": 2067,
   "id": "2b10e101",
   "metadata": {},
   "outputs": [
    {
     "data": {
      "image/png": "[encoded data removed]",
      "text/plain": [
       "<Figure size 432x288 with 1 Axes>"
      ]
     },
     "metadata": {
      "needs_background": "light"
     },
     "output_type": "display_data"
    }
   ],
   "source": [
    "sns.scatterplot(x= df.x_1,y = df.x_2, hue = df.t);"
   ]
  },
  {
   "cell_type": "markdown",
   "id": "cb21a2d8",
   "metadata": {},
   "source": [
    "### The plot of dataset 2"
   ]
  },
  {
   "cell_type": "code",
   "execution_count": 2068,
   "id": "427b4bb6",
   "metadata": {},
   "outputs": [
    {
     "data": {
      "image/png": "[encoded data removed]",
      "text/plain": [
       "<Figure size 432x288 with 1 Axes>"
      ]
     },
     "metadata": {
      "needs_background": "light"
     },
     "output_type": "display_data"
    }
   ],
   "source": [
    "sns.scatterplot(x= df2.x_1,y = df2.x_2, hue = df2.t);"
   ]
  },
  {
   "cell_type": "markdown",
   "id": "1781197f",
   "metadata": {},
   "source": [
    "## Considering these scatterplots, let's explain the discrepancies between experiment 2 and experiment 3."
   ]
  },
  {
   "cell_type": "markdown",
   "id": "e8ff0182",
   "metadata": {},
   "source": [
    "#### Lorem Ipsum"
   ]
  },
  {
   "cell_type": "markdown",
   "id": "855e1e4c",
   "metadata": {},
   "source": [
    "---\n",
    "---"
   ]
  },
  {
   "cell_type": "markdown",
   "id": "8d3f8e37",
   "metadata": {},
   "source": [
    "## 5. Next let's fit and score binary classifiers for dataset 3 using Logistic Regression, Gaussian Naive Bayes, and K-Nearest Neighbors, and create a scatterplot for it. "
   ]
  },
  {
   "cell_type": "markdown",
   "id": "e8c9e634",
   "metadata": {},
   "source": [
    "### Setting up dataset 3"
   ]
  },
  {
   "cell_type": "code",
   "execution_count": 2069,
   "id": "0bf9252d",
   "metadata": {},
   "outputs": [],
   "source": [
    "# Set up Data for dataset 3\n",
    "X3 = df3\n",
    "t3 = X3['t']\n",
    "X3 = X3.drop(['t'], axis = 1)\n",
    "\n",
    "showData(X3, t3, False)"
   ]
  },
  {
   "cell_type": "markdown",
   "id": "fcbccd33",
   "metadata": {},
   "source": [
    "#### The Logistic Regression Classification Model (Dataset 3)"
   ]
  },
  {
   "cell_type": "code",
   "execution_count": 2070,
   "id": "1d7e301c",
   "metadata": {},
   "outputs": [
    {
     "name": "stdout",
     "output_type": "stream",
     "text": [
      "Logistic Regression Score: 0.87\n"
     ]
    }
   ],
   "source": [
    "# Dataset 3 Logistic Regression\n",
    "lrcD3 = lgr(X3, t3)"
   ]
  },
  {
   "cell_type": "markdown",
   "id": "28b83341",
   "metadata": {},
   "source": [
    "#### The Gaussian Naive Bayes Classification Model (Dataset 3)"
   ]
  },
  {
   "cell_type": "code",
   "execution_count": 2071,
   "id": "2a7e0bf1",
   "metadata": {},
   "outputs": [
    {
     "name": "stdout",
     "output_type": "stream",
     "text": [
      "Gaussian Naive Bayes Score: 0.885\n"
     ]
    }
   ],
   "source": [
    "# Dataset 3 Gaussian Naive Bayes\n",
    "gnbD3 = gnb(X3, t3)"
   ]
  },
  {
   "cell_type": "markdown",
   "id": "1e3ecde9",
   "metadata": {},
   "source": [
    "#### The K-Nearest Neighbors Classification Model (Dataset 3)"
   ]
  },
  {
   "cell_type": "code",
   "execution_count": 2072,
   "id": "4a286202",
   "metadata": {},
   "outputs": [
    {
     "name": "stdout",
     "output_type": "stream",
     "text": [
      "K-Nearest-Neighbors Score: 1.0\n"
     ]
    }
   ],
   "source": [
    "# Dataset 3 K-Nearest-Neighbors Classifier\n",
    "knnD3 = knn(X3, t3)"
   ]
  },
  {
   "cell_type": "markdown",
   "id": "4405622b",
   "metadata": {},
   "source": [
    "#### The plot of dataset 3"
   ]
  },
  {
   "cell_type": "code",
   "execution_count": 2073,
   "id": "617e4108",
   "metadata": {},
   "outputs": [
    {
     "data": {
      "image/png": "[encoded data removed]",
      "text/plain": [
       "<Figure size 432x288 with 1 Axes>"
      ]
     },
     "metadata": {
      "needs_background": "light"
     },
     "output_type": "display_data"
    }
   ],
   "source": [
    "sns.scatterplot(x= df3.x_1,y = df3.x_2, hue = df3.t);"
   ]
  },
  {
   "cell_type": "markdown",
   "id": "3960382c",
   "metadata": {},
   "source": [
    "## Observations about the differences in behavior between the classifiers:"
   ]
  },
  {
   "cell_type": "markdown",
   "id": "90172f5f",
   "metadata": {},
   "source": [
    "#### Lorem Ipsum"
   ]
  },
  {
   "cell_type": "markdown",
   "id": "c3c009a9",
   "metadata": {},
   "source": [
    "---\n",
    "---"
   ]
  },
  {
   "cell_type": "markdown",
   "id": "eef10963",
   "metadata": {},
   "source": [
    "## 6. Next we will use the code from 'KV Subbaiah Setty’s tutorial How To Plot A Decision Boundary For Machine Learning Algorithms in Python' as a guide, and plot the decision boundaries for each classifier and dataset. \n",
    "\n"
   ]
  },
  {
   "cell_type": "markdown",
   "id": "b9cd7024",
   "metadata": {},
   "source": [
    "### Setting up the function for future applications."
   ]
  },
  {
   "cell_type": "code",
   "execution_count": 2074,
   "id": "ff99861d",
   "metadata": {},
   "outputs": [],
   "source": [
    "def decisionBoundaries(dataframe, classificationModel):\n",
    "\n",
    "    # defining the bounds of the dataframe domain    \n",
    "    if(dataframe.equals(X)):\n",
    "        frameNum = 1\n",
    "        MINx_1, MAXx_1 = X['x_1'].min()-1, X['x_1'].max()+1\n",
    "        MINx_2, MAXx_2 = X['x_2'].min()-1, X['x_2'].max()+1\n",
    "    elif(dataframe.equals(X2)):\n",
    "        frameNum = 2\n",
    "        MINx_1, MAXx_1 = X2['x_1'].min()-1, X2['x_1'].max()+1\n",
    "        MINx_2, MAXx_2 = X2['x_2'].min()-1, X2['x_2'].max()+1\n",
    "    elif(dataframe.equals(X3)):\n",
    "        frameNum = 3\n",
    "        MINx_1, MAXx_1 = X3['x_1'].min()-1, X3['x_1'].max()+1\n",
    "        MINx_2, MAXx_2 = X3['x_2'].min()-1, X3['x_2'].max()+1\n",
    "    else:\n",
    "        print(f'Something is wrong, this dataframe does not match our records')\n",
    "        frameNum = 0\n",
    "    \n",
    "    # define the x_1 and x_2 scale for the meshgrid\n",
    "    x_1grid = np.arange(MINx_1, MAXx_1, .1)\n",
    "    x_2grid = np.arange(MINx_2, MAXx_2, .1)\n",
    "    \n",
    "    # create all of the lines and rows of the grid\n",
    "    x_1, x_2 = np.meshgrid(x_1grid, x_2grid)\n",
    "\n",
    "    # flatten each grid to a vector\n",
    "    r1, r2 = x_1.flatten(), x_2.flatten()\n",
    "    r1, r2 = r1.reshape((len(r1), 1)), r2.reshape((len(r2), 1))\n",
    "\n",
    "    # horizontal stack vectors to create x1,x2 input for the model\n",
    "    grid = np.hstack((r1,r2))\n",
    "\n",
    "    # make predictions for the grid\n",
    "    if(frameNum == 1):\n",
    "        if (classificationModel == \"lrc\"):\n",
    "            yhat = lrcD1.predict(grid)\n",
    "        elif (classificationModel == \"gnb\"):\n",
    "            yhat = gnbD1.predict(grid)\n",
    "        elif (classificationModel == \"knn\"):\n",
    "            yhat = knnD1.predict(grid)\n",
    "    \n",
    "    elif(frameNum == 2):\n",
    "        if (classificationModel == \"lrc\"):\n",
    "            yhat = lrcD2.predict(grid)\n",
    "        elif (classificationModel == \"gnb\"):\n",
    "            yhat = gnbD2.predict(grid)\n",
    "        elif (classificationModel == \"knn\"):\n",
    "            yhat = knnD2.predict(grid)    \n",
    "    \n",
    "    elif(frameNum == 3):\n",
    "        if (classificationModel == \"lrc\"):\n",
    "            yhat = lrcD3.predict(grid)\n",
    "        elif (classificationModel == \"gnb\"):\n",
    "            yhat = gnbD3.predict(grid)\n",
    "        elif (classificationModel == \"knn\"):\n",
    "            yhat = knnD3.predict(grid) \n",
    "    else:\n",
    "        print(\"Error pal, dataframe != X, X2, or X3\")       \n",
    "\n",
    "    # reshape the predictions back into a grid\n",
    "    zz = yhat.reshape(x_1.shape)\n",
    "\n",
    "    # plot the grid of x, y and z values as a surface\n",
    "    Y = {'x_1':[], 'x_2':[]}\n",
    "    Ydf = pd.DataFrame(data = Y)\n",
    "    Ydf2 = pd.DataFrame(data = Y)\n",
    "    plt.contourf(x_1, x_2, zz, cmap='Paired')\n",
    "\n",
    "    if(frameNum == 1):\n",
    "        for i, x in enumerate(t):\n",
    "            if x == 1:\n",
    "                Ydf.loc[len(Ydf.index)] = [X['x_1'][i], X['x_2'][i]]\n",
    "            if x == 0:\n",
    "                Ydf2.loc[len(Ydf2.index)] = [X['x_1'][i], X['x_2'][i]]\n",
    "        plt.scatter(Ydf['x_1'], Ydf['x_2'], c='#FF7900')\n",
    "        plt.scatter(Ydf2['x_1'], Ydf2['x_2'], c='#00274C')\n",
    "\n",
    "    elif(frameNum == 2):\n",
    "        for i, x in enumerate(t):\n",
    "            if x == 1:\n",
    "                Ydf.loc[len(Ydf.index)] = [X2['x_1'][i], X2['x_2'][i]]\n",
    "            if x == 0:\n",
    "                Ydf2.loc[len(Ydf2.index)] = [X2['x_1'][i], X2['x_2'][i]]\n",
    "        plt.scatter(Ydf['x_1'], Ydf['x_2'], c='#FF7900')\n",
    "        plt.scatter(Ydf2['x_1'], Ydf2['x_2'], c='#00274C')\n",
    "\n",
    "    elif(frameNum == 3):\n",
    "        for i, x in enumerate(t):\n",
    "            if x == 1:\n",
    "                Ydf.loc[len(Ydf.index)] = [X3['x_1'][i], X3['x_2'][i]]\n",
    "            if x == 0:\n",
    "                Ydf2.loc[len(Ydf2.index)] = [X3['x_1'][i], X3['x_2'][i]]\n",
    "        plt.scatter(Ydf['x_1'], Ydf['x_2'], c='#FF7900')\n",
    "        plt.scatter(Ydf2['x_1'], Ydf2['x_2'], c='#00274C')\n",
    "    \n",
    "    else:\n",
    "        print(\"Whoa, frameNum wasn't assigned properly!\")\n",
    "\n",
    "    return plt"
   ]
  },
  {
   "cell_type": "markdown",
   "id": "6afbe4cb",
   "metadata": {},
   "source": [
    "### Dataset 1"
   ]
  },
  {
   "cell_type": "markdown",
   "id": "d82bae36",
   "metadata": {},
   "source": [
    "#### Plotting the decision boundaries of the Logistic Regression classification model (Dataset 1)"
   ]
  },
  {
   "cell_type": "code",
   "execution_count": 2075,
   "id": "2caf1b44",
   "metadata": {},
   "outputs": [
    {
     "name": "stderr",
     "output_type": "stream",
     "text": [
      "Z:\\Programs\\Anaconda\\envs\\WORK\\lib\\site-packages\\sklearn\\base.py:445: UserWarning: X does not have valid feature names, but LogisticRegression was fitted with feature names\n",
      "  warnings.warn(\n"
     ]
    },
    {
     "data": {
      "text/plain": [
       "<module 'matplotlib.pyplot' from 'Z:\\\\Programs\\\\Anaconda\\\\envs\\\\WORK\\\\lib\\\\site-packages\\\\matplotlib\\\\pyplot.py'>"
      ]
     },
     "execution_count": 2075,
     "metadata": {},
     "output_type": "execute_result"
    },
    {
     "data": {
      "image/png": "[encoded data removed]",
      "text/plain": [
       "<Figure size 432x288 with 1 Axes>"
      ]
     },
     "metadata": {
      "needs_background": "light"
     },
     "output_type": "display_data"
    }
   ],
   "source": [
    "decisionBoundaries(X, 'lrc')"
   ]
  },
  {
   "cell_type": "markdown",
   "id": "3c62f58c",
   "metadata": {},
   "source": [
    "#### Plotting the decision boundaries of the Gaussian Naive Bayes classification model (Dataset 1)"
   ]
  },
  {
   "cell_type": "code",
   "execution_count": 2076,
   "id": "b7fd7d63",
   "metadata": {},
   "outputs": [
    {
     "name": "stderr",
     "output_type": "stream",
     "text": [
      "Z:\\Programs\\Anaconda\\envs\\WORK\\lib\\site-packages\\sklearn\\base.py:445: UserWarning: X does not have valid feature names, but GaussianNB was fitted with feature names\n",
      "  warnings.warn(\n"
     ]
    },
    {
     "data": {
      "text/plain": [
       "<module 'matplotlib.pyplot' from 'Z:\\\\Programs\\\\Anaconda\\\\envs\\\\WORK\\\\lib\\\\site-packages\\\\matplotlib\\\\pyplot.py'>"
      ]
     },
     "execution_count": 2076,
     "metadata": {},
     "output_type": "execute_result"
    },
    {
     "data": {
      "image/png": "[encoded data removed]",
      "text/plain": [
       "<Figure size 432x288 with 1 Axes>"
      ]
     },
     "metadata": {
      "needs_background": "light"
     },
     "output_type": "display_data"
    }
   ],
   "source": [
    "decisionBoundaries(X, 'gnb')"
   ]
  },
  {
   "cell_type": "markdown",
   "id": "6ba7be67",
   "metadata": {},
   "source": [
    "#### Plotting the decision boundaries of the K-Nearest Neighbors classification model (Dataset 1)"
   ]
  },
  {
   "cell_type": "code",
   "execution_count": 2077,
   "id": "7e40837a",
   "metadata": {},
   "outputs": [
    {
     "name": "stderr",
     "output_type": "stream",
     "text": [
      "Z:\\Programs\\Anaconda\\envs\\WORK\\lib\\site-packages\\sklearn\\base.py:445: UserWarning: X does not have valid feature names, but KNeighborsClassifier was fitted with feature names\n",
      "  warnings.warn(\n"
     ]
    },
    {
     "data": {
      "text/plain": [
       "<module 'matplotlib.pyplot' from 'Z:\\\\Programs\\\\Anaconda\\\\envs\\\\WORK\\\\lib\\\\site-packages\\\\matplotlib\\\\pyplot.py'>"
      ]
     },
     "execution_count": 2077,
     "metadata": {},
     "output_type": "execute_result"
    },
    {
     "data": {
      "image/png": "[encoded data removed]",
      "text/plain": [
       "<Figure size 432x288 with 1 Axes>"
      ]
     },
     "metadata": {
      "needs_background": "light"
     },
     "output_type": "display_data"
    }
   ],
   "source": [
    "decisionBoundaries(X, 'knn')"
   ]
  },
  {
   "cell_type": "markdown",
   "id": "50aaf126",
   "metadata": {},
   "source": [
    "### Dataset 2"
   ]
  },
  {
   "cell_type": "markdown",
   "id": "b09cb133",
   "metadata": {},
   "source": [
    "#### Plotting the decision boundaries of the Logistic Regression classification model (Dataset 2)"
   ]
  },
  {
   "cell_type": "code",
   "execution_count": 2078,
   "id": "4c0c4b57",
   "metadata": {},
   "outputs": [
    {
     "name": "stderr",
     "output_type": "stream",
     "text": [
      "Z:\\Programs\\Anaconda\\envs\\WORK\\lib\\site-packages\\sklearn\\base.py:445: UserWarning: X does not have valid feature names, but LogisticRegression was fitted with feature names\n",
      "  warnings.warn(\n"
     ]
    },
    {
     "data": {
      "text/plain": [
       "<module 'matplotlib.pyplot' from 'Z:\\\\Programs\\\\Anaconda\\\\envs\\\\WORK\\\\lib\\\\site-packages\\\\matplotlib\\\\pyplot.py'>"
      ]
     },
     "execution_count": 2078,
     "metadata": {},
     "output_type": "execute_result"
    },
    {
     "data": {
      "image/png": "[encoded data removed]",
      "text/plain": [
       "<Figure size 432x288 with 1 Axes>"
      ]
     },
     "metadata": {
      "needs_background": "light"
     },
     "output_type": "display_data"
    }
   ],
   "source": [
    "decisionBoundaries(X2, 'lrc')"
   ]
  },
  {
   "cell_type": "markdown",
   "id": "6159fa95",
   "metadata": {},
   "source": [
    "#### Plotting the decision boundaries of the Gaussian Naive Bayes classification model (Dataset 2)"
   ]
  },
  {
   "cell_type": "code",
   "execution_count": 2079,
   "id": "8de717fd",
   "metadata": {},
   "outputs": [
    {
     "name": "stderr",
     "output_type": "stream",
     "text": [
      "Z:\\Programs\\Anaconda\\envs\\WORK\\lib\\site-packages\\sklearn\\base.py:445: UserWarning: X does not have valid feature names, but GaussianNB was fitted with feature names\n",
      "  warnings.warn(\n"
     ]
    },
    {
     "data": {
      "text/plain": [
       "<module 'matplotlib.pyplot' from 'Z:\\\\Programs\\\\Anaconda\\\\envs\\\\WORK\\\\lib\\\\site-packages\\\\matplotlib\\\\pyplot.py'>"
      ]
     },
     "execution_count": 2079,
     "metadata": {},
     "output_type": "execute_result"
    },
    {
     "data": {
      "image/png": "[encoded data removed]",
      "text/plain": [
       "<Figure size 432x288 with 1 Axes>"
      ]
     },
     "metadata": {
      "needs_background": "light"
     },
     "output_type": "display_data"
    }
   ],
   "source": [
    "decisionBoundaries(X2, 'gnb')"
   ]
  },
  {
   "cell_type": "markdown",
   "id": "97919b4f",
   "metadata": {},
   "source": [
    "#### Plotting the decision boundaries of the K-Nearest Neighbors classification model (Dataset 2)"
   ]
  },
  {
   "cell_type": "code",
   "execution_count": 2080,
   "id": "c91c44ea",
   "metadata": {},
   "outputs": [
    {
     "name": "stderr",
     "output_type": "stream",
     "text": [
      "Z:\\Programs\\Anaconda\\envs\\WORK\\lib\\site-packages\\sklearn\\base.py:445: UserWarning: X does not have valid feature names, but KNeighborsClassifier was fitted with feature names\n",
      "  warnings.warn(\n"
     ]
    },
    {
     "data": {
      "text/plain": [
       "<module 'matplotlib.pyplot' from 'Z:\\\\Programs\\\\Anaconda\\\\envs\\\\WORK\\\\lib\\\\site-packages\\\\matplotlib\\\\pyplot.py'>"
      ]
     },
     "execution_count": 2080,
     "metadata": {},
     "output_type": "execute_result"
    },
    {
     "data": {
      "image/png": "[encoded data removed]",
      "text/plain": [
       "<Figure size 432x288 with 1 Axes>"
      ]
     },
     "metadata": {
      "needs_background": "light"
     },
     "output_type": "display_data"
    }
   ],
   "source": [
    "decisionBoundaries(X2, 'knn')"
   ]
  },
  {
   "cell_type": "markdown",
   "id": "9e1ad950",
   "metadata": {},
   "source": [
    "### Dataset 3"
   ]
  },
  {
   "cell_type": "markdown",
   "id": "0358e19a",
   "metadata": {},
   "source": [
    "#### Plotting the decision boundaries of the Logistic Regression classification model (Dataset 3)"
   ]
  },
  {
   "cell_type": "code",
   "execution_count": 2081,
   "id": "75554cf5",
   "metadata": {},
   "outputs": [
    {
     "name": "stderr",
     "output_type": "stream",
     "text": [
      "Z:\\Programs\\Anaconda\\envs\\WORK\\lib\\site-packages\\sklearn\\base.py:445: UserWarning: X does not have valid feature names, but LogisticRegression was fitted with feature names\n",
      "  warnings.warn(\n"
     ]
    },
    {
     "data": {
      "text/plain": [
       "<module 'matplotlib.pyplot' from 'Z:\\\\Programs\\\\Anaconda\\\\envs\\\\WORK\\\\lib\\\\site-packages\\\\matplotlib\\\\pyplot.py'>"
      ]
     },
     "execution_count": 2081,
     "metadata": {},
     "output_type": "execute_result"
    },
    {
     "data": {
      "image/png": "[encoded data removed]",
      "text/plain": [
       "<Figure size 432x288 with 1 Axes>"
      ]
     },
     "metadata": {
      "needs_background": "light"
     },
     "output_type": "display_data"
    }
   ],
   "source": [
    "decisionBoundaries(X3, 'lrc')"
   ]
  },
  {
   "cell_type": "markdown",
   "id": "afe5eb85",
   "metadata": {},
   "source": [
    "#### Plotting the decision boundaries of the Gaussian Naive Bayes classification model (Dataset 3)"
   ]
  },
  {
   "cell_type": "code",
   "execution_count": 2082,
   "id": "15916b57",
   "metadata": {},
   "outputs": [
    {
     "name": "stderr",
     "output_type": "stream",
     "text": [
      "Z:\\Programs\\Anaconda\\envs\\WORK\\lib\\site-packages\\sklearn\\base.py:445: UserWarning: X does not have valid feature names, but GaussianNB was fitted with feature names\n",
      "  warnings.warn(\n"
     ]
    },
    {
     "data": {
      "text/plain": [
       "<module 'matplotlib.pyplot' from 'Z:\\\\Programs\\\\Anaconda\\\\envs\\\\WORK\\\\lib\\\\site-packages\\\\matplotlib\\\\pyplot.py'>"
      ]
     },
     "execution_count": 2082,
     "metadata": {},
     "output_type": "execute_result"
    },
    {
     "data": {
      "image/png": "[encoded data removed]",
      "text/plain": [
       "<Figure size 432x288 with 1 Axes>"
      ]
     },
     "metadata": {
      "needs_background": "light"
     },
     "output_type": "display_data"
    }
   ],
   "source": [
    "decisionBoundaries(X3, 'gnb')"
   ]
  },
  {
   "cell_type": "markdown",
   "id": "bb5ec2e4",
   "metadata": {},
   "source": [
    "#### Plotting the decision boundaries of the K-Nearest Neighbors classification model (Dataset 3)"
   ]
  },
  {
   "cell_type": "code",
   "execution_count": 2083,
   "id": "b1c40fa3",
   "metadata": {},
   "outputs": [
    {
     "name": "stderr",
     "output_type": "stream",
     "text": [
      "Z:\\Programs\\Anaconda\\envs\\WORK\\lib\\site-packages\\sklearn\\base.py:445: UserWarning: X does not have valid feature names, but KNeighborsClassifier was fitted with feature names\n",
      "  warnings.warn(\n"
     ]
    },
    {
     "data": {
      "text/plain": [
       "<module 'matplotlib.pyplot' from 'Z:\\\\Programs\\\\Anaconda\\\\envs\\\\WORK\\\\lib\\\\site-packages\\\\matplotlib\\\\pyplot.py'>"
      ]
     },
     "execution_count": 2083,
     "metadata": {},
     "output_type": "execute_result"
    },
    {
     "data": {
      "image/png": "[encoded data removed]",
      "text/plain": [
       "<Figure size 432x288 with 1 Axes>"
      ]
     },
     "metadata": {
      "needs_background": "light"
     },
     "output_type": "display_data"
    }
   ],
   "source": [
    "decisionBoundaries(X3, 'knn')"
   ]
  },
  {
   "cell_type": "markdown",
   "id": "5d41e25a",
   "metadata": {},
   "source": [
    "## Does all this help to explain the behavior we saw in experiment 5?"
   ]
  },
  {
   "cell_type": "markdown",
   "id": "08d313e2",
   "metadata": {},
   "source": [
    "#### Lorem Ipsum"
   ]
  },
  {
   "cell_type": "markdown",
   "id": "92d48ff3",
   "metadata": {},
   "source": [
    "---\n",
    "---"
   ]
  },
  {
   "cell_type": "markdown",
   "id": "54412bd0",
   "metadata": {},
   "source": [
    "## 7. Let's repeat experiments 3, 4, and 6, but this time use Support Vector Machines with linear, polynomial, radial basis function, and sigmoid kernels. "
   ]
  },
  {
   "cell_type": "code",
   "execution_count": null,
   "id": "acaa5a27",
   "metadata": {},
   "outputs": [],
   "source": []
  },
  {
   "cell_type": "markdown",
   "id": "4fe9ba66",
   "metadata": {},
   "source": [
    "## Determining which of these kernels are the best and worst at finding appropriate decision boundaries:"
   ]
  },
  {
   "cell_type": "markdown",
   "id": "60fba7d1",
   "metadata": {},
   "source": [
    "#### Lorem Ipsum"
   ]
  },
  {
   "cell_type": "markdown",
   "id": "2bcb2f0f",
   "metadata": {},
   "source": [
    "---\n",
    "---"
   ]
  },
  {
   "cell_type": "markdown",
   "id": "09539ccd",
   "metadata": {},
   "source": [
    "## 8. Since dataset 3 seems the hardest to fit, we focus on that. When we look closely at the documentation, we see that the polynomial kernel uses a default degree of 3, but it seems as if it should be possible to fit this dataset better.\n",
    "## We will use sklearn.model_selection.GridSearchCV to try polynomial kernels of degree up to 10. "
   ]
  },
  {
   "cell_type": "code",
   "execution_count": null,
   "id": "ba1fdd2e",
   "metadata": {},
   "outputs": [],
   "source": []
  },
  {
   "cell_type": "markdown",
   "id": "7811765f",
   "metadata": {},
   "source": [
    "## Deciding which degree leads to the best performance:"
   ]
  },
  {
   "cell_type": "markdown",
   "id": "01fef82b",
   "metadata": {},
   "source": [
    "#### Lorem Ipsum"
   ]
  },
  {
   "cell_type": "markdown",
   "id": "090ba921",
   "metadata": {},
   "source": [
    "---\n",
    "---"
   ]
  },
  {
   "cell_type": "markdown",
   "id": "29f05927",
   "metadata": {},
   "source": [
    "## 9. Finally, we plot the decision boundary of the polynomial kernel we found in experiment 8, and then compare it to the decision boundary we found in experiment 7."
   ]
  },
  {
   "cell_type": "code",
   "execution_count": null,
   "id": "2cb1a71c",
   "metadata": {},
   "outputs": [],
   "source": []
  },
  {
   "cell_type": "markdown",
   "id": "9eb22045",
   "metadata": {},
   "source": [
    "### The plot of the kernel in experiment 8"
   ]
  },
  {
   "cell_type": "code",
   "execution_count": null,
   "id": "34b45fdc",
   "metadata": {},
   "outputs": [],
   "source": []
  },
  {
   "cell_type": "markdown",
   "id": "93e1b073",
   "metadata": {},
   "source": [
    "### Comparing with the decision boundary we found in experiment 7"
   ]
  },
  {
   "cell_type": "markdown",
   "id": "c6f8ac73",
   "metadata": {},
   "source": [
    "#### Lorem Ipsum"
   ]
  },
  {
   "cell_type": "markdown",
   "id": "02d6bfbc",
   "metadata": {},
   "source": [
    "---"
   ]
  }
 ],
 "metadata": {
  "kernelspec": {
   "display_name": "Python 3",
   "language": "python",
   "name": "python3"
  },
  "language_info": {
   "codemirror_mode": {
    "name": "ipython",
    "version": 3
   },
   "file_extension": ".py",
   "mimetype": "text/x-python",
   "name": "python",
   "nbconvert_exporter": "python",
   "pygments_lexer": "ipython3",
   "version": "3.8.12"
  }
 },
 "nbformat": 4,
 "nbformat_minor": 5
}
