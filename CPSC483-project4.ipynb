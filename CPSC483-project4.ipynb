{
 "cells": [
  {
   "cell_type": "markdown",
   "id": "b421f04a",
   "metadata": {},
   "source": [
    "# CPSC 483 Project 3\n",
    "### Team Members: Raphael S. Andaya, Glenn H. Lusk, Ricky Martinez, Jacob Coyle\n",
    "#### 11/19/21"
   ]
  },
  {
   "cell_type": "markdown",
   "id": "fa2743ef",
   "metadata": {},
   "source": [
    "### 1. Load and examine each dataset."
   ]
  },
  {
   "cell_type": "code",
   "execution_count": 78,
   "id": "823897d6",
   "metadata": {},
   "outputs": [
    {
     "name": "stdout",
     "output_type": "stream",
     "text": [
      "         x_1        x_2  t\n",
      "0   1.800539  -0.539218  0\n",
      "1  24.330831  26.439146  1\n",
      "2  21.124114  21.166814  1\n",
      "3  10.517197  11.175424  0\n",
      "4  19.737721  23.341138  1          x_1        x_2  t\n",
      "0  -1.664407  17.245415  0\n",
      "1  20.211237   8.599145  1\n",
      "2  12.675218  23.148375  1\n",
      "3  17.552831  10.311698  1\n",
      "4  14.959941  20.225844  1          x_1        x_2  t\n",
      "0  30.876149   7.806793  0\n",
      "1  34.060953  14.802478  0\n",
      "2  30.860440  16.270849  0\n",
      "3  21.738646  10.306756  1\n",
      "4  17.664476  30.921761  1\n"
     ]
    },
    {
     "data": {
      "text/html": [
       "<div>\n",
       "<style scoped>\n",
       "    .dataframe tbody tr th:only-of-type {\n",
       "        vertical-align: middle;\n",
       "    }\n",
       "\n",
       "    .dataframe tbody tr th {\n",
       "        vertical-align: top;\n",
       "    }\n",
       "\n",
       "    .dataframe thead th {\n",
       "        text-align: right;\n",
       "    }\n",
       "</style>\n",
       "<table border=\"1\" class=\"dataframe\">\n",
       "  <thead>\n",
       "    <tr style=\"text-align: right;\">\n",
       "      <th></th>\n",
       "      <th>x_1</th>\n",
       "      <th>x_2</th>\n",
       "      <th>t</th>\n",
       "    </tr>\n",
       "  </thead>\n",
       "  <tbody>\n",
       "    <tr>\n",
       "      <th>0</th>\n",
       "      <td>1.800539</td>\n",
       "      <td>-0.539218</td>\n",
       "      <td>0</td>\n",
       "    </tr>\n",
       "    <tr>\n",
       "      <th>1</th>\n",
       "      <td>24.330831</td>\n",
       "      <td>26.439146</td>\n",
       "      <td>1</td>\n",
       "    </tr>\n",
       "    <tr>\n",
       "      <th>2</th>\n",
       "      <td>21.124114</td>\n",
       "      <td>21.166814</td>\n",
       "      <td>1</td>\n",
       "    </tr>\n",
       "    <tr>\n",
       "      <th>3</th>\n",
       "      <td>10.517197</td>\n",
       "      <td>11.175424</td>\n",
       "      <td>0</td>\n",
       "    </tr>\n",
       "    <tr>\n",
       "      <th>4</th>\n",
       "      <td>19.737721</td>\n",
       "      <td>23.341138</td>\n",
       "      <td>1</td>\n",
       "    </tr>\n",
       "  </tbody>\n",
       "</table>\n",
       "</div>"
      ],
      "text/plain": [
       "         x_1        x_2  t\n",
       "0   1.800539  -0.539218  0\n",
       "1  24.330831  26.439146  1\n",
       "2  21.124114  21.166814  1\n",
       "3  10.517197  11.175424  0\n",
       "4  19.737721  23.341138  1"
      ]
     },
     "execution_count": 78,
     "metadata": {},
     "output_type": "execute_result"
    }
   ],
   "source": [
    "import pandas as pd\n",
    "import numpy as np\n",
    "\n",
    "\n",
    "myFile = pd.read_csv(\"dataset1.csv\",\n",
    "                    names = ['x_1','x_2','t'])\n",
    "myFile2 = pd.read_csv(\"dataset2.csv\",\n",
    "                     names = ['x_1','x_2','t'])\n",
    "myFile3 = pd.read_csv(\"dataset3.csv\",\n",
    "                     names = ['x_1','x_2','t'])\n",
    "df = myFile\n",
    "df2 = myFile2\n",
    "df3 = myFile3\n",
    "\n",
    "dfHead = pd.DataFrame.head(myFile)\n",
    "dfHead2 = pd.DataFrame.head(myFile2)\n",
    "dfHead3 = pd.DataFrame.head(myFile3)\n",
    "print(dfHead, dfHead2, dfHead3)\n",
    "#dfHead\n",
    "dfHead"
   ]
  },
  {
   "cell_type": "markdown",
   "id": "5a8afdbf",
   "metadata": {},
   "source": [
    "### 2. Fit and score binary classifiers for dataset 1 using logistic regression, Gaussian naive Bayes, and K-Nearest Neighbors for dataset 1. How accurate are the model’s predictions?\n",
    "#### Note: since these are toy datasets, and we are interested in the behavior of the classifiers themselves rather than making predictions, do not split the data into training and test sets. Train with the entire dataset."
   ]
  },
  {
   "cell_type": "code",
   "execution_count": 79,
   "id": "47443a74",
   "metadata": {},
   "outputs": [
    {
     "ename": "KeyError",
     "evalue": "'0'",
     "output_type": "error",
     "traceback": [
      "\u001b[0;31m---------------------------------------------------------------------------\u001b[0m",
      "\u001b[0;31mKeyError\u001b[0m                                  Traceback (most recent call last)",
      "\u001b[0;32m/opt/anaconda3/lib/python3.8/site-packages/pandas/core/indexes/base.py\u001b[0m in \u001b[0;36mget_loc\u001b[0;34m(self, key, method, tolerance)\u001b[0m\n\u001b[1;32m   3079\u001b[0m             \u001b[0;32mtry\u001b[0m\u001b[0;34m:\u001b[0m\u001b[0;34m\u001b[0m\u001b[0;34m\u001b[0m\u001b[0m\n\u001b[0;32m-> 3080\u001b[0;31m                 \u001b[0;32mreturn\u001b[0m \u001b[0mself\u001b[0m\u001b[0;34m.\u001b[0m\u001b[0m_engine\u001b[0m\u001b[0;34m.\u001b[0m\u001b[0mget_loc\u001b[0m\u001b[0;34m(\u001b[0m\u001b[0mcasted_key\u001b[0m\u001b[0;34m)\u001b[0m\u001b[0;34m\u001b[0m\u001b[0;34m\u001b[0m\u001b[0m\n\u001b[0m\u001b[1;32m   3081\u001b[0m             \u001b[0;32mexcept\u001b[0m \u001b[0mKeyError\u001b[0m \u001b[0;32mas\u001b[0m \u001b[0merr\u001b[0m\u001b[0;34m:\u001b[0m\u001b[0;34m\u001b[0m\u001b[0;34m\u001b[0m\u001b[0m\n",
      "\u001b[0;32mpandas/_libs/index.pyx\u001b[0m in \u001b[0;36mpandas._libs.index.IndexEngine.get_loc\u001b[0;34m()\u001b[0m\n",
      "\u001b[0;32mpandas/_libs/index.pyx\u001b[0m in \u001b[0;36mpandas._libs.index.IndexEngine.get_loc\u001b[0;34m()\u001b[0m\n",
      "\u001b[0;32mpandas/_libs/hashtable_class_helper.pxi\u001b[0m in \u001b[0;36mpandas._libs.hashtable.PyObjectHashTable.get_item\u001b[0;34m()\u001b[0m\n",
      "\u001b[0;32mpandas/_libs/hashtable_class_helper.pxi\u001b[0m in \u001b[0;36mpandas._libs.hashtable.PyObjectHashTable.get_item\u001b[0;34m()\u001b[0m\n",
      "\u001b[0;31mKeyError\u001b[0m: '0'",
      "\nThe above exception was the direct cause of the following exception:\n",
      "\u001b[0;31mKeyError\u001b[0m                                  Traceback (most recent call last)",
      "\u001b[0;32m<ipython-input-79-20990d5f63ed>\u001b[0m in \u001b[0;36m<module>\u001b[0;34m\u001b[0m\n\u001b[1;32m      3\u001b[0m \u001b[0;31m# Set up Data for dataset 1\u001b[0m\u001b[0;34m\u001b[0m\u001b[0;34m\u001b[0m\u001b[0;34m\u001b[0m\u001b[0m\n\u001b[1;32m      4\u001b[0m \u001b[0mX\u001b[0m \u001b[0;34m=\u001b[0m \u001b[0mdf\u001b[0m\u001b[0;34m\u001b[0m\u001b[0;34m\u001b[0m\u001b[0m\n\u001b[0;32m----> 5\u001b[0;31m \u001b[0mt\u001b[0m \u001b[0;34m=\u001b[0m \u001b[0mX\u001b[0m\u001b[0;34m[\u001b[0m\u001b[0;34m'0'\u001b[0m\u001b[0;34m]\u001b[0m\u001b[0;34m\u001b[0m\u001b[0;34m\u001b[0m\u001b[0m\n\u001b[0m\u001b[1;32m      6\u001b[0m \u001b[0mX\u001b[0m \u001b[0;34m=\u001b[0m \u001b[0mX\u001b[0m\u001b[0;34m.\u001b[0m\u001b[0mdrop\u001b[0m\u001b[0;34m(\u001b[0m\u001b[0;34m[\u001b[0m\u001b[0;34m'0'\u001b[0m\u001b[0;34m]\u001b[0m\u001b[0;34m,\u001b[0m \u001b[0maxis\u001b[0m \u001b[0;34m=\u001b[0m \u001b[0;36m1\u001b[0m\u001b[0;34m)\u001b[0m\u001b[0;34m\u001b[0m\u001b[0;34m\u001b[0m\u001b[0m\n\u001b[1;32m      7\u001b[0m \u001b[0;34m\u001b[0m\u001b[0m\n",
      "\u001b[0;32m/opt/anaconda3/lib/python3.8/site-packages/pandas/core/frame.py\u001b[0m in \u001b[0;36m__getitem__\u001b[0;34m(self, key)\u001b[0m\n\u001b[1;32m   3022\u001b[0m             \u001b[0;32mif\u001b[0m \u001b[0mself\u001b[0m\u001b[0;34m.\u001b[0m\u001b[0mcolumns\u001b[0m\u001b[0;34m.\u001b[0m\u001b[0mnlevels\u001b[0m \u001b[0;34m>\u001b[0m \u001b[0;36m1\u001b[0m\u001b[0;34m:\u001b[0m\u001b[0;34m\u001b[0m\u001b[0;34m\u001b[0m\u001b[0m\n\u001b[1;32m   3023\u001b[0m                 \u001b[0;32mreturn\u001b[0m \u001b[0mself\u001b[0m\u001b[0;34m.\u001b[0m\u001b[0m_getitem_multilevel\u001b[0m\u001b[0;34m(\u001b[0m\u001b[0mkey\u001b[0m\u001b[0;34m)\u001b[0m\u001b[0;34m\u001b[0m\u001b[0;34m\u001b[0m\u001b[0m\n\u001b[0;32m-> 3024\u001b[0;31m             \u001b[0mindexer\u001b[0m \u001b[0;34m=\u001b[0m \u001b[0mself\u001b[0m\u001b[0;34m.\u001b[0m\u001b[0mcolumns\u001b[0m\u001b[0;34m.\u001b[0m\u001b[0mget_loc\u001b[0m\u001b[0;34m(\u001b[0m\u001b[0mkey\u001b[0m\u001b[0;34m)\u001b[0m\u001b[0;34m\u001b[0m\u001b[0;34m\u001b[0m\u001b[0m\n\u001b[0m\u001b[1;32m   3025\u001b[0m             \u001b[0;32mif\u001b[0m \u001b[0mis_integer\u001b[0m\u001b[0;34m(\u001b[0m\u001b[0mindexer\u001b[0m\u001b[0;34m)\u001b[0m\u001b[0;34m:\u001b[0m\u001b[0;34m\u001b[0m\u001b[0;34m\u001b[0m\u001b[0m\n\u001b[1;32m   3026\u001b[0m                 \u001b[0mindexer\u001b[0m \u001b[0;34m=\u001b[0m \u001b[0;34m[\u001b[0m\u001b[0mindexer\u001b[0m\u001b[0;34m]\u001b[0m\u001b[0;34m\u001b[0m\u001b[0;34m\u001b[0m\u001b[0m\n",
      "\u001b[0;32m/opt/anaconda3/lib/python3.8/site-packages/pandas/core/indexes/base.py\u001b[0m in \u001b[0;36mget_loc\u001b[0;34m(self, key, method, tolerance)\u001b[0m\n\u001b[1;32m   3080\u001b[0m                 \u001b[0;32mreturn\u001b[0m \u001b[0mself\u001b[0m\u001b[0;34m.\u001b[0m\u001b[0m_engine\u001b[0m\u001b[0;34m.\u001b[0m\u001b[0mget_loc\u001b[0m\u001b[0;34m(\u001b[0m\u001b[0mcasted_key\u001b[0m\u001b[0;34m)\u001b[0m\u001b[0;34m\u001b[0m\u001b[0;34m\u001b[0m\u001b[0m\n\u001b[1;32m   3081\u001b[0m             \u001b[0;32mexcept\u001b[0m \u001b[0mKeyError\u001b[0m \u001b[0;32mas\u001b[0m \u001b[0merr\u001b[0m\u001b[0;34m:\u001b[0m\u001b[0;34m\u001b[0m\u001b[0;34m\u001b[0m\u001b[0m\n\u001b[0;32m-> 3082\u001b[0;31m                 \u001b[0;32mraise\u001b[0m \u001b[0mKeyError\u001b[0m\u001b[0;34m(\u001b[0m\u001b[0mkey\u001b[0m\u001b[0;34m)\u001b[0m \u001b[0;32mfrom\u001b[0m \u001b[0merr\u001b[0m\u001b[0;34m\u001b[0m\u001b[0;34m\u001b[0m\u001b[0m\n\u001b[0m\u001b[1;32m   3083\u001b[0m \u001b[0;34m\u001b[0m\u001b[0m\n\u001b[1;32m   3084\u001b[0m         \u001b[0;32mif\u001b[0m \u001b[0mtolerance\u001b[0m \u001b[0;32mis\u001b[0m \u001b[0;32mnot\u001b[0m \u001b[0;32mNone\u001b[0m\u001b[0;34m:\u001b[0m\u001b[0;34m\u001b[0m\u001b[0;34m\u001b[0m\u001b[0m\n",
      "\u001b[0;31mKeyError\u001b[0m: '0'"
     ]
    }
   ],
   "source": [
    "from sklearn.model_selection import train_test_split\n",
    "\n",
    "# Set up Data for dataset 1\n",
    "X = df\n",
    "t = X['0']\n",
    "X = X.drop(['0'], axis = 1)\n",
    "\n",
    "def showData(features, target, doShow):\n",
    "    if(doShow == True):\n",
    "        print(f'Feature Matrix: \\n{features}\\n')\n",
    "        print(f'Target Vector: \\n{target}\\n')\n",
    "        \n",
    "showData(X, t, False)"
   ]
  },
  {
   "cell_type": "code",
   "execution_count": null,
   "id": "cb61e162",
   "metadata": {},
   "outputs": [],
   "source": []
  },
  {
   "cell_type": "code",
   "execution_count": null,
   "id": "4e6233f8",
   "metadata": {},
   "outputs": [],
   "source": [
    "from sklearn.linear_model import LogisticRegression\n",
    "\n",
    "#Logistic Regression Section:\n",
    "\n",
    "def lgr(features, target):\n",
    "    #Fit\n",
    "    clf = LogisticRegression().fit(features, target)\n",
    "    #Score\n",
    "    lg_score = clf.score(features, target)\n",
    "    #Print Score\n",
    "    print(f'Logistic Regression Score: {lg_score}')\n",
    "\n",
    "lgr(X, t)"
   ]
  },
  {
   "cell_type": "code",
   "execution_count": null,
   "id": "53a7b8aa",
   "metadata": {},
   "outputs": [],
   "source": [
    "from sklearn.naive_bayes import GaussianNB \n",
    "\n",
    "# Gaussian Naive Bayes Section\n",
    "\n",
    "def gnb(features, target):\n",
    "    #Fit\n",
    "    clf = GaussianNB().fit(features, target)\n",
    "    #Score\n",
    "    gnb_score = clf.score(features, target)\n",
    "    #Print Score\n",
    "    print(f'Gaussian Naive Bayes Score: {gnb_score}')\n",
    "\n",
    "gnb(X, t)"
   ]
  },
  {
   "cell_type": "code",
   "execution_count": null,
   "id": "b3d8069b",
   "metadata": {},
   "outputs": [],
   "source": [
    "from sklearn.neighbors import KNeighborsClassifier\n",
    "\n",
    "def knn(features, target):\n",
    "    #Fit\n",
    "    #How much should K be????\n",
    "    clf = KNeighborsClassifier(n_neighbors=5).fit(features, target)\n",
    "    #Score\n",
    "    knn_score = clf.score(features, target)\n",
    "    #Print Score\n",
    "    print(f'K-Nearest-Neighbors Score: {knn_score}')\n",
    "    \n",
    "knn(X, t)"
   ]
  },
  {
   "cell_type": "markdown",
   "id": "c24d751b",
   "metadata": {},
   "source": [
    "### 3. Repeat experiment (2) for dataset 2. How do your results compare?"
   ]
  },
  {
   "cell_type": "code",
   "execution_count": null,
   "id": "f2f275f3",
   "metadata": {},
   "outputs": [],
   "source": [
    "# Set up Data for dataset 2\n",
    "X2 = df2\n",
    "t2 = X2['0']\n",
    "X2 = X2.drop(['0'], axis = 1)\n",
    "\n",
    "showData(X2, t2, False)"
   ]
  },
  {
   "cell_type": "code",
   "execution_count": null,
   "id": "d1bef8c8",
   "metadata": {},
   "outputs": [],
   "source": [
    "# Dataset 2 Logistic Regression\n",
    "lgr(X2, t2)"
   ]
  },
  {
   "cell_type": "code",
   "execution_count": null,
   "id": "cdfc7b06",
   "metadata": {
    "scrolled": true
   },
   "outputs": [],
   "source": [
    "# Dataset 2 Gaussian Naive Bayes\n",
    "gnb(X2, t2)"
   ]
  },
  {
   "cell_type": "code",
   "execution_count": null,
   "id": "c4f5426a",
   "metadata": {},
   "outputs": [],
   "source": [
    "# Dataset 2 K-Nearest-Neighbors Classifier\n",
    "knn(X2, t2)"
   ]
  },
  {
   "cell_type": "markdown",
   "id": "c5cf1e30",
   "metadata": {},
   "source": [
    "Logistic Regression is half as accurate in its score, in comparison of dataset 1 and 2 (Datas. Gaussian Naive Bayes and K-Nearest-Neighbors scores are the same accuracy of 1.0.\n",
    "\n",
    "Note: Can be changed, check over my stuff bois!"
   ]
  },
  {
   "cell_type": "markdown",
   "id": "742ccd80",
   "metadata": {},
   "source": [
    "### 4. Create scatterplots for datasets 1 and 2, plotting points from class 0 with a different color and marker from points inclass 1. What accounts for the discrepancies between experiments (2) and (3)?"
   ]
  },
  {
   "cell_type": "code",
   "execution_count": null,
   "id": "202e62e4",
   "metadata": {},
   "outputs": [],
   "source": [
    "import matplotlib.pyplot as plt\n",
    "import seaborn as sns\n",
    "import pandas as pd\n",
    "# x_1 = dfHead['raph']\n",
    "# x_2 = dfHead2['rick']\n",
    "# z = dfHead3['t']\n",
    "\n",
    "\n",
    "g_1 = sns.scatterplot(data = df, x = \"x_1\", y = \"x_2\")\n",
    "\n",
    "g_2 = sns.scatterplot(data = df2, x = \"x_1\", y = \"x_2\")\n",
    "\n",
    "plt.show(g_1)\n",
    "\n",
    "\n"
   ]
  },
  {
   "cell_type": "code",
   "execution_count": null,
   "id": "3a7e2492",
   "metadata": {},
   "outputs": [],
   "source": []
  }
 ],
 "metadata": {
  "kernelspec": {
   "display_name": "Python 3",
   "language": "python",
   "name": "python3"
  },
  "language_info": {
   "codemirror_mode": {
    "name": "ipython",
    "version": 3
   },
   "file_extension": ".py",
   "mimetype": "text/x-python",
   "name": "python",
   "nbconvert_exporter": "python",
   "pygments_lexer": "ipython3",
   "version": "3.8.8"
  }
 },
 "nbformat": 4,
 "nbformat_minor": 5
}
