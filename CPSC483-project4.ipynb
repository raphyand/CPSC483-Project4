{
 "cells": [
  {
   "cell_type": "markdown",
   "id": "b421f04a",
   "metadata": {},
   "source": [
    "# CPSC 483 Project 3\n",
    "### Team Members: Raphael S. Andaya, Glenn H. Lusk, Ricky Martinez, Jacob Coyle\n",
    "#### 11/19/21"
   ]
  },
  {
   "cell_type": "markdown",
   "id": "fa2743ef",
   "metadata": {},
   "source": [
    "### 1. Load and examine each dataset."
   ]
  },
  {
   "cell_type": "code",
   "execution_count": 185,
   "id": "823897d6",
   "metadata": {},
   "outputs": [
    {
     "name": "stdout",
     "output_type": "stream",
     "text": [
      "   1.8005387353055742  -0.5392180610512733  0\n",
      "0           24.330831            26.439146  1\n",
      "1           21.124114            21.166814  1\n",
      "2           10.517197            11.175424  0\n",
      "3           19.737721            23.341138  1\n",
      "4            8.404446             8.196714  0    -1.6644070030229474  17.24541535537469  0\n",
      "0            20.211237           8.599145  1\n",
      "1            12.675218          23.148375  1\n",
      "2            17.552831          10.311698  1\n",
      "3            14.959941          20.225844  1\n",
      "4             7.066053          28.374781  0    30.876149283835716  7.806792944703234  0\n",
      "0           34.060953          14.802478  0\n",
      "1           30.860440          16.270849  0\n",
      "2           21.738646          10.306756  1\n",
      "3           17.664476          30.921761  1\n",
      "4           23.610768          33.464780  1\n"
     ]
    },
    {
     "data": {
      "text/html": [
       "<div>\n",
       "<style scoped>\n",
       "    .dataframe tbody tr th:only-of-type {\n",
       "        vertical-align: middle;\n",
       "    }\n",
       "\n",
       "    .dataframe tbody tr th {\n",
       "        vertical-align: top;\n",
       "    }\n",
       "\n",
       "    .dataframe thead th {\n",
       "        text-align: right;\n",
       "    }\n",
       "</style>\n",
       "<table border=\"1\" class=\"dataframe\">\n",
       "  <thead>\n",
       "    <tr style=\"text-align: right;\">\n",
       "      <th></th>\n",
       "      <th>1.8005387353055742</th>\n",
       "      <th>-0.5392180610512733</th>\n",
       "      <th>0</th>\n",
       "    </tr>\n",
       "  </thead>\n",
       "  <tbody>\n",
       "    <tr>\n",
       "      <th>0</th>\n",
       "      <td>24.330831</td>\n",
       "      <td>26.439146</td>\n",
       "      <td>1</td>\n",
       "    </tr>\n",
       "    <tr>\n",
       "      <th>1</th>\n",
       "      <td>21.124114</td>\n",
       "      <td>21.166814</td>\n",
       "      <td>1</td>\n",
       "    </tr>\n",
       "    <tr>\n",
       "      <th>2</th>\n",
       "      <td>10.517197</td>\n",
       "      <td>11.175424</td>\n",
       "      <td>0</td>\n",
       "    </tr>\n",
       "    <tr>\n",
       "      <th>3</th>\n",
       "      <td>19.737721</td>\n",
       "      <td>23.341138</td>\n",
       "      <td>1</td>\n",
       "    </tr>\n",
       "    <tr>\n",
       "      <th>4</th>\n",
       "      <td>8.404446</td>\n",
       "      <td>8.196714</td>\n",
       "      <td>0</td>\n",
       "    </tr>\n",
       "  </tbody>\n",
       "</table>\n",
       "</div>"
      ],
      "text/plain": [
       "   1.8005387353055742  -0.5392180610512733  0\n",
       "0           24.330831            26.439146  1\n",
       "1           21.124114            21.166814  1\n",
       "2           10.517197            11.175424  0\n",
       "3           19.737721            23.341138  1\n",
       "4            8.404446             8.196714  0"
      ]
     },
     "execution_count": 185,
     "metadata": {},
     "output_type": "execute_result"
    }
   ],
   "source": [
    "import pandas as pd\n",
    "import numpy as np\n",
    "\n",
    "\n",
    "myFile = pd.read_csv(\"dataset1.csv\")\n",
    "myFile2 = pd.read_csv(\"dataset2.csv\")\n",
    "myFile3 = pd.read_csv(\"dataset3.csv\")\n",
    "df = myFile\n",
    "df2 = myFile2\n",
    "df3 = myFile3\n",
    "\n",
    "dfHead = pd.DataFrame.head(myFile)\n",
    "dfHead2 = pd.DataFrame.head(myFile2)\n",
    "dfHead3 = pd.DataFrame.head(myFile3)\n",
    "print(dfHead, dfHead2, dfHead3)\n",
    "#dfHead\n",
    "dfHead"
   ]
  },
  {
   "cell_type": "markdown",
   "id": "5a8afdbf",
   "metadata": {},
   "source": [
    "### 2. Fit and score binary classifiers for dataset 1 using logistic regression, Gaussian naive Bayes, and K-Nearest Neighbors for dataset 1. How accurate are the model’s predictions?\n",
    "#### Note: since these are toy datasets, and we are interested in the behavior of the classifiers themselves rather than making predictions, do not split the data into training and test sets. Train with the entire dataset."
   ]
  },
  {
   "cell_type": "code",
   "execution_count": 186,
   "id": "47443a74",
   "metadata": {},
   "outputs": [],
   "source": [
    "from sklearn.model_selection import train_test_split\n",
    "\n",
    "# Set up Data for dataset 1\n",
    "X = df\n",
    "t = X['0']\n",
    "X = X.drop(['0'], axis = 1)\n",
    "\n",
    "def showData(features, target, doShow):\n",
    "    if(doShow == True):\n",
    "        print(f'Feature Matrix: \\n{features}\\n')\n",
    "        print(f'Target Vector: \\n{target}\\n')\n",
    "        \n",
    "showData(X, t, False)"
   ]
  },
  {
   "cell_type": "code",
   "execution_count": null,
   "id": "cb61e162",
   "metadata": {},
   "outputs": [],
   "source": []
  },
  {
   "cell_type": "code",
   "execution_count": 187,
   "id": "4e6233f8",
   "metadata": {},
   "outputs": [
    {
     "name": "stdout",
     "output_type": "stream",
     "text": [
      "Logistic Regression Score: 1.0\n"
     ]
    }
   ],
   "source": [
    "from sklearn.linear_model import LogisticRegression\n",
    "\n",
    "#Logistic Regression Section:\n",
    "\n",
    "def lgr(features, target):\n",
    "    #Fit\n",
    "    clf = LogisticRegression().fit(features, target)\n",
    "    #Score\n",
    "    lg_score = clf.score(features, target)\n",
    "    #Print Score\n",
    "    print(f'Logistic Regression Score: {lg_score}')\n",
    "\n",
    "lgr(X, t)"
   ]
  },
  {
   "cell_type": "code",
   "execution_count": 188,
   "id": "53a7b8aa",
   "metadata": {},
   "outputs": [
    {
     "name": "stdout",
     "output_type": "stream",
     "text": [
      "Gaussian Naive Bayes Score: 1.0\n"
     ]
    }
   ],
   "source": [
    "from sklearn.naive_bayes import GaussianNB \n",
    "\n",
    "# Gaussian Naive Bayes Section\n",
    "\n",
    "def gnb(features, target):\n",
    "    #Fit\n",
    "    clf = GaussianNB().fit(features, target)\n",
    "    #Score\n",
    "    gnb_score = clf.score(features, target)\n",
    "    #Print Score\n",
    "    print(f'Gaussian Naive Bayes Score: {gnb_score}')\n",
    "\n",
    "gnb(X, t)"
   ]
  },
  {
   "cell_type": "code",
   "execution_count": 189,
   "id": "b3d8069b",
   "metadata": {},
   "outputs": [
    {
     "name": "stdout",
     "output_type": "stream",
     "text": [
      "K-Nearest-Neighbors Score: 1.0\n"
     ]
    }
   ],
   "source": [
    "from sklearn.neighbors import KNeighborsClassifier\n",
    "\n",
    "def knn(features, target):\n",
    "    #Fit\n",
    "    #How much should K be????\n",
    "    clf = KNeighborsClassifier(n_neighbors=5).fit(features, target)\n",
    "    #Score\n",
    "    knn_score = clf.score(features, target)\n",
    "    #Print Score\n",
    "    print(f'K-Nearest-Neighbors Score: {knn_score}')\n",
    "    \n",
    "knn(X, t)"
   ]
  },
  {
   "cell_type": "markdown",
   "id": "c24d751b",
   "metadata": {},
   "source": [
    "### 3. Repeat experiment (2) for dataset 2. How do your results compare?"
   ]
  },
  {
   "cell_type": "code",
   "execution_count": 190,
   "id": "f2f275f3",
   "metadata": {},
   "outputs": [],
   "source": [
    "# Set up Data for dataset 2\n",
    "X2 = df2\n",
    "t2 = X2['0']\n",
    "X2 = X2.drop(['0'], axis = 1)\n",
    "\n",
    "showData(X2, t2, False)"
   ]
  },
  {
   "cell_type": "code",
   "execution_count": 191,
   "id": "d1bef8c8",
   "metadata": {},
   "outputs": [
    {
     "name": "stdout",
     "output_type": "stream",
     "text": [
      "Logistic Regression Score: 0.542713567839196\n"
     ]
    }
   ],
   "source": [
    "# Dataset 2 Logistic Regression\n",
    "lgr(X2, t2)"
   ]
  },
  {
   "cell_type": "code",
   "execution_count": 192,
   "id": "cdfc7b06",
   "metadata": {
    "scrolled": true
   },
   "outputs": [
    {
     "name": "stdout",
     "output_type": "stream",
     "text": [
      "Gaussian Naive Bayes Score: 1.0\n"
     ]
    }
   ],
   "source": [
    "# Dataset 2 Gaussian Naive Bayes\n",
    "gnb(X2, t2)"
   ]
  },
  {
   "cell_type": "code",
   "execution_count": 193,
   "id": "c4f5426a",
   "metadata": {},
   "outputs": [
    {
     "name": "stdout",
     "output_type": "stream",
     "text": [
      "K-Nearest-Neighbors Score: 1.0\n"
     ]
    }
   ],
   "source": [
    "# Dataset 2 K-Nearest-Neighbors Classifier\n",
    "knn(X2, t2)"
   ]
  },
  {
   "cell_type": "markdown",
   "id": "c5cf1e30",
   "metadata": {},
   "source": [
    "Logistic Regression is half as accurate in its score, in comparison of dataset 1 and 2 (Datas. Gaussian Naive Bayes and K-Nearest-Neighbors scores are the same accuracy of 1.0.\n",
    "\n",
    "Note: Can be changed, check over my stuff bois!"
   ]
  }
 ],
 "metadata": {
  "kernelspec": {
   "display_name": "Python 3 (ipykernel)",
   "language": "python",
   "name": "python3"
  },
  "language_info": {
   "codemirror_mode": {
    "name": "ipython",
    "version": 3
   },
   "file_extension": ".py",
   "mimetype": "text/x-python",
   "name": "python",
   "nbconvert_exporter": "python",
   "pygments_lexer": "ipython3",
   "version": "3.8.11"
  }
 },
 "nbformat": 4,
 "nbformat_minor": 5
}
